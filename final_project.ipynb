{
 "cells": [
  {
   "cell_type": "code",
   "execution_count": 212,
   "id": "40e6a9bb",
   "metadata": {},
   "outputs": [],
   "source": [
    "import pandas as pd\n",
    "from sklearn.datasets import make_blobs\n",
    "from sklearn.cluster import KMeans\n",
    "from sklearn.pipeline import Pipeline\n",
    "import matplotlib.pyplot as plt\n",
    "%matplotlib inline\n",
    "\n",
    "import numpy as np\n",
    "import csv\n",
    "import operator\n",
    "from sklearn.model_selection import train_test_split\n",
    "from sklearn.compose import ColumnTransformer\n",
    "from sklearn.preprocessing import RobustScaler, OneHotEncoder,LabelEncoder\n",
    "from sklearn.impute import MissingIndicator\n",
    "from sklearn.impute import SimpleImputer\n",
    "\n",
    "import math\n",
    "import re"
   ]
  },
  {
   "cell_type": "code",
   "execution_count": 213,
   "id": "7ce7a5c8",
   "metadata": {},
   "outputs": [
    {
     "data": {
      "text/html": [
       "<div>\n",
       "<style scoped>\n",
       "    .dataframe tbody tr th:only-of-type {\n",
       "        vertical-align: middle;\n",
       "    }\n",
       "\n",
       "    .dataframe tbody tr th {\n",
       "        vertical-align: top;\n",
       "    }\n",
       "\n",
       "    .dataframe thead th {\n",
       "        text-align: right;\n",
       "    }\n",
       "</style>\n",
       "<table border=\"1\" class=\"dataframe\">\n",
       "  <thead>\n",
       "    <tr style=\"text-align: right;\">\n",
       "      <th></th>\n",
       "      <th>uniq_id</th>\n",
       "      <th>product_name</th>\n",
       "      <th>manufacturer</th>\n",
       "      <th>price</th>\n",
       "      <th>number_available_in_stock</th>\n",
       "      <th>number_of_reviews</th>\n",
       "      <th>number_of_answered_questions</th>\n",
       "      <th>average_review_rating</th>\n",
       "      <th>amazon_category_and_sub_category</th>\n",
       "      <th>customers_who_bought_this_item_also_bought</th>\n",
       "      <th>description</th>\n",
       "      <th>product_information</th>\n",
       "      <th>product_description</th>\n",
       "      <th>items_customers_buy_after_viewing_this_item</th>\n",
       "      <th>customer_questions_and_answers</th>\n",
       "      <th>customer_reviews</th>\n",
       "      <th>sellers</th>\n",
       "    </tr>\n",
       "  </thead>\n",
       "  <tbody>\n",
       "    <tr>\n",
       "      <th>0</th>\n",
       "      <td>eac7efa5dbd3d667f26eb3d3ab504464</td>\n",
       "      <td>Hornby 2014 Catalogue</td>\n",
       "      <td>Hornby</td>\n",
       "      <td>£3.42</td>\n",
       "      <td>5 new</td>\n",
       "      <td>15</td>\n",
       "      <td>1.0</td>\n",
       "      <td>4.9 out of 5 stars</td>\n",
       "      <td>Hobbies &gt; Model Trains &amp; Railway Sets &gt; Rail V...</td>\n",
       "      <td>http://www.amazon.co.uk/Hornby-R8150-Catalogue...</td>\n",
       "      <td>Product Description Hornby 2014 Catalogue Box ...</td>\n",
       "      <td>Technical Details Item Weight640 g Product Dim...</td>\n",
       "      <td>Product Description Hornby 2014 Catalogue Box ...</td>\n",
       "      <td>http://www.amazon.co.uk/Hornby-R8150-Catalogue...</td>\n",
       "      <td>Does this catalogue detail all the previous Ho...</td>\n",
       "      <td>Worth Buying For The Pictures Alone (As Ever) ...</td>\n",
       "      <td>{\"seller\"=&gt;[{\"Seller_name_1\"=&gt;\"Amazon.co.uk\", ...</td>\n",
       "    </tr>\n",
       "    <tr>\n",
       "      <th>1</th>\n",
       "      <td>b17540ef7e86e461d37f3ae58b7b72ac</td>\n",
       "      <td>FunkyBuys® Large Christmas Holiday Express Fes...</td>\n",
       "      <td>FunkyBuys</td>\n",
       "      <td>£16.99</td>\n",
       "      <td>NaN</td>\n",
       "      <td>2</td>\n",
       "      <td>1.0</td>\n",
       "      <td>4.5 out of 5 stars</td>\n",
       "      <td>Hobbies &gt; Model Trains &amp; Railway Sets &gt; Rail V...</td>\n",
       "      <td>http://www.amazon.co.uk/Christmas-Holiday-Expr...</td>\n",
       "      <td>Size Name:Large FunkyBuys® Large Christmas Hol...</td>\n",
       "      <td>Technical Details Manufacturer recommended age...</td>\n",
       "      <td>Size Name:Large FunkyBuys® Large Christmas Hol...</td>\n",
       "      <td>http://www.amazon.co.uk/Christmas-Holiday-Expr...</td>\n",
       "      <td>can you turn off sounds // hi no you cant turn...</td>\n",
       "      <td>Four Stars // 4.0 // 18 Dec. 2015 // By\\n    \\...</td>\n",
       "      <td>{\"seller\"=&gt;{\"Seller_name_1\"=&gt;\"UHD WHOLESALE\", ...</td>\n",
       "    </tr>\n",
       "    <tr>\n",
       "      <th>2</th>\n",
       "      <td>348f344247b0c1a935b1223072ef9d8a</td>\n",
       "      <td>CLASSIC TOY TRAIN SET TRACK CARRIAGES LIGHT EN...</td>\n",
       "      <td>ccf</td>\n",
       "      <td>£9.99</td>\n",
       "      <td>2 new</td>\n",
       "      <td>17</td>\n",
       "      <td>2.0</td>\n",
       "      <td>3.9 out of 5 stars</td>\n",
       "      <td>Hobbies &gt; Model Trains &amp; Railway Sets &gt; Rail V...</td>\n",
       "      <td>http://www.amazon.co.uk/Classic-Train-Lights-B...</td>\n",
       "      <td>BIG CLASSIC TOY TRAIN SET TRACK CARRIAGE LIGHT...</td>\n",
       "      <td>Technical Details Manufacturer recommended age...</td>\n",
       "      <td>BIG CLASSIC TOY TRAIN SET TRACK CARRIAGE LIGHT...</td>\n",
       "      <td>http://www.amazon.co.uk/Train-With-Tracks-Batt...</td>\n",
       "      <td>What is the gauge of the track // Hi Paul.Trut...</td>\n",
       "      <td>**Highly Recommended!** // 5.0 // 26 May 2015 ...</td>\n",
       "      <td>{\"seller\"=&gt;[{\"Seller_name_1\"=&gt;\"DEAL-BOX\", \"Sel...</td>\n",
       "    </tr>\n",
       "    <tr>\n",
       "      <th>3</th>\n",
       "      <td>e12b92dbb8eaee78b22965d2a9bbbd9f</td>\n",
       "      <td>HORNBY Coach R4410A BR Hawksworth Corridor 3rd</td>\n",
       "      <td>Hornby</td>\n",
       "      <td>£39.99</td>\n",
       "      <td>NaN</td>\n",
       "      <td>1</td>\n",
       "      <td>2.0</td>\n",
       "      <td>5.0 out of 5 stars</td>\n",
       "      <td>Hobbies &gt; Model Trains &amp; Railway Sets &gt; Rail V...</td>\n",
       "      <td>NaN</td>\n",
       "      <td>Hornby 00 Gauge BR Hawksworth 3rd Class W 2107...</td>\n",
       "      <td>Technical Details Item Weight259 g Product Dim...</td>\n",
       "      <td>Hornby 00 Gauge BR Hawksworth 3rd Class W 2107...</td>\n",
       "      <td>NaN</td>\n",
       "      <td>NaN</td>\n",
       "      <td>I love it // 5.0 // 22 July 2013 // By\\n    \\n...</td>\n",
       "      <td>NaN</td>\n",
       "    </tr>\n",
       "    <tr>\n",
       "      <th>4</th>\n",
       "      <td>e33a9adeed5f36840ccc227db4682a36</td>\n",
       "      <td>Hornby 00 Gauge 0-4-0 Gildenlow Salt Co. Steam...</td>\n",
       "      <td>Hornby</td>\n",
       "      <td>£32.19</td>\n",
       "      <td>NaN</td>\n",
       "      <td>3</td>\n",
       "      <td>2.0</td>\n",
       "      <td>4.7 out of 5 stars</td>\n",
       "      <td>Hobbies &gt; Model Trains &amp; Railway Sets &gt; Rail V...</td>\n",
       "      <td>http://www.amazon.co.uk/Hornby-R6367-RailRoad-...</td>\n",
       "      <td>Product Description Hornby RailRoad 0-4-0 Gild...</td>\n",
       "      <td>Technical Details Item Weight159 g Product Dim...</td>\n",
       "      <td>Product Description Hornby RailRoad 0-4-0 Gild...</td>\n",
       "      <td>http://www.amazon.co.uk/Hornby-R2672-RailRoad-...</td>\n",
       "      <td>NaN</td>\n",
       "      <td>Birthday present // 5.0 // 14 April 2014 // By...</td>\n",
       "      <td>NaN</td>\n",
       "    </tr>\n",
       "  </tbody>\n",
       "</table>\n",
       "</div>"
      ],
      "text/plain": [
       "                            uniq_id  \\\n",
       "0  eac7efa5dbd3d667f26eb3d3ab504464   \n",
       "1  b17540ef7e86e461d37f3ae58b7b72ac   \n",
       "2  348f344247b0c1a935b1223072ef9d8a   \n",
       "3  e12b92dbb8eaee78b22965d2a9bbbd9f   \n",
       "4  e33a9adeed5f36840ccc227db4682a36   \n",
       "\n",
       "                                        product_name manufacturer   price  \\\n",
       "0                              Hornby 2014 Catalogue       Hornby   £3.42   \n",
       "1  FunkyBuys® Large Christmas Holiday Express Fes...    FunkyBuys  £16.99   \n",
       "2  CLASSIC TOY TRAIN SET TRACK CARRIAGES LIGHT EN...          ccf   £9.99   \n",
       "3     HORNBY Coach R4410A BR Hawksworth Corridor 3rd       Hornby  £39.99   \n",
       "4  Hornby 00 Gauge 0-4-0 Gildenlow Salt Co. Steam...       Hornby  £32.19   \n",
       "\n",
       "  number_available_in_stock number_of_reviews  number_of_answered_questions  \\\n",
       "0                     5 new                15                           1.0   \n",
       "1                       NaN                 2                           1.0   \n",
       "2                     2 new                17                           2.0   \n",
       "3                       NaN                 1                           2.0   \n",
       "4                       NaN                 3                           2.0   \n",
       "\n",
       "  average_review_rating                   amazon_category_and_sub_category  \\\n",
       "0    4.9 out of 5 stars  Hobbies > Model Trains & Railway Sets > Rail V...   \n",
       "1    4.5 out of 5 stars  Hobbies > Model Trains & Railway Sets > Rail V...   \n",
       "2    3.9 out of 5 stars  Hobbies > Model Trains & Railway Sets > Rail V...   \n",
       "3    5.0 out of 5 stars  Hobbies > Model Trains & Railway Sets > Rail V...   \n",
       "4    4.7 out of 5 stars  Hobbies > Model Trains & Railway Sets > Rail V...   \n",
       "\n",
       "          customers_who_bought_this_item_also_bought  \\\n",
       "0  http://www.amazon.co.uk/Hornby-R8150-Catalogue...   \n",
       "1  http://www.amazon.co.uk/Christmas-Holiday-Expr...   \n",
       "2  http://www.amazon.co.uk/Classic-Train-Lights-B...   \n",
       "3                                                NaN   \n",
       "4  http://www.amazon.co.uk/Hornby-R6367-RailRoad-...   \n",
       "\n",
       "                                         description  \\\n",
       "0  Product Description Hornby 2014 Catalogue Box ...   \n",
       "1  Size Name:Large FunkyBuys® Large Christmas Hol...   \n",
       "2  BIG CLASSIC TOY TRAIN SET TRACK CARRIAGE LIGHT...   \n",
       "3  Hornby 00 Gauge BR Hawksworth 3rd Class W 2107...   \n",
       "4  Product Description Hornby RailRoad 0-4-0 Gild...   \n",
       "\n",
       "                                 product_information  \\\n",
       "0  Technical Details Item Weight640 g Product Dim...   \n",
       "1  Technical Details Manufacturer recommended age...   \n",
       "2  Technical Details Manufacturer recommended age...   \n",
       "3  Technical Details Item Weight259 g Product Dim...   \n",
       "4  Technical Details Item Weight159 g Product Dim...   \n",
       "\n",
       "                                 product_description  \\\n",
       "0  Product Description Hornby 2014 Catalogue Box ...   \n",
       "1  Size Name:Large FunkyBuys® Large Christmas Hol...   \n",
       "2  BIG CLASSIC TOY TRAIN SET TRACK CARRIAGE LIGHT...   \n",
       "3  Hornby 00 Gauge BR Hawksworth 3rd Class W 2107...   \n",
       "4  Product Description Hornby RailRoad 0-4-0 Gild...   \n",
       "\n",
       "         items_customers_buy_after_viewing_this_item  \\\n",
       "0  http://www.amazon.co.uk/Hornby-R8150-Catalogue...   \n",
       "1  http://www.amazon.co.uk/Christmas-Holiday-Expr...   \n",
       "2  http://www.amazon.co.uk/Train-With-Tracks-Batt...   \n",
       "3                                                NaN   \n",
       "4  http://www.amazon.co.uk/Hornby-R2672-RailRoad-...   \n",
       "\n",
       "                      customer_questions_and_answers  \\\n",
       "0  Does this catalogue detail all the previous Ho...   \n",
       "1  can you turn off sounds // hi no you cant turn...   \n",
       "2  What is the gauge of the track // Hi Paul.Trut...   \n",
       "3                                                NaN   \n",
       "4                                                NaN   \n",
       "\n",
       "                                    customer_reviews  \\\n",
       "0  Worth Buying For The Pictures Alone (As Ever) ...   \n",
       "1  Four Stars // 4.0 // 18 Dec. 2015 // By\\n    \\...   \n",
       "2  **Highly Recommended!** // 5.0 // 26 May 2015 ...   \n",
       "3  I love it // 5.0 // 22 July 2013 // By\\n    \\n...   \n",
       "4  Birthday present // 5.0 // 14 April 2014 // By...   \n",
       "\n",
       "                                             sellers  \n",
       "0  {\"seller\"=>[{\"Seller_name_1\"=>\"Amazon.co.uk\", ...  \n",
       "1  {\"seller\"=>{\"Seller_name_1\"=>\"UHD WHOLESALE\", ...  \n",
       "2  {\"seller\"=>[{\"Seller_name_1\"=>\"DEAL-BOX\", \"Sel...  \n",
       "3                                                NaN  \n",
       "4                                                NaN  "
      ]
     },
     "execution_count": 213,
     "metadata": {},
     "output_type": "execute_result"
    }
   ],
   "source": [
    "data = pd.read_csv('/Users/Sissi/Desktop/OA/amazon_co-ecommerce_sample.csv')\n",
    "data.head()"
   ]
  },
  {
   "cell_type": "code",
   "execution_count": 214,
   "id": "2c59d566",
   "metadata": {},
   "outputs": [],
   "source": [
    "data = data.drop(['uniq_id', 'product_name','amazon_category_and_sub_category','customers_who_bought_this_item_also_bought','description','product_information','product_description','items_customers_buy_after_viewing_this_item','customer_questions_and_answers','sellers'], axis=1)"
   ]
  },
  {
   "cell_type": "code",
   "execution_count": 258,
   "id": "9aee0d52",
   "metadata": {},
   "outputs": [
    {
     "data": {
      "text/plain": [
       "(9979, 14)"
      ]
     },
     "execution_count": 258,
     "metadata": {},
     "output_type": "execute_result"
    }
   ],
   "source": [
    "data.shape"
   ]
  },
  {
   "cell_type": "code",
   "execution_count": 215,
   "id": "de72d115",
   "metadata": {},
   "outputs": [],
   "source": [
    "data = data.dropna(subset=['customer_reviews'])"
   ]
  },
  {
   "cell_type": "code",
   "execution_count": 216,
   "id": "9c71c81c",
   "metadata": {},
   "outputs": [
    {
     "data": {
      "text/html": [
       "<div>\n",
       "<style scoped>\n",
       "    .dataframe tbody tr th:only-of-type {\n",
       "        vertical-align: middle;\n",
       "    }\n",
       "\n",
       "    .dataframe tbody tr th {\n",
       "        vertical-align: top;\n",
       "    }\n",
       "\n",
       "    .dataframe thead th {\n",
       "        text-align: right;\n",
       "    }\n",
       "</style>\n",
       "<table border=\"1\" class=\"dataframe\">\n",
       "  <thead>\n",
       "    <tr style=\"text-align: right;\">\n",
       "      <th></th>\n",
       "      <th>manufacturer</th>\n",
       "      <th>price</th>\n",
       "      <th>number_available_in_stock</th>\n",
       "      <th>number_of_reviews</th>\n",
       "      <th>number_of_answered_questions</th>\n",
       "      <th>average_review_rating</th>\n",
       "      <th>customer_reviews</th>\n",
       "    </tr>\n",
       "  </thead>\n",
       "  <tbody>\n",
       "    <tr>\n",
       "      <th>0</th>\n",
       "      <td>Hornby</td>\n",
       "      <td>£3.42</td>\n",
       "      <td>5 new</td>\n",
       "      <td>15</td>\n",
       "      <td>1</td>\n",
       "      <td>4.9 out of 5 stars</td>\n",
       "      <td>Worth Buying For The Pictures Alone (As Ever) ...</td>\n",
       "    </tr>\n",
       "    <tr>\n",
       "      <th>1</th>\n",
       "      <td>FunkyBuys</td>\n",
       "      <td>£16.99</td>\n",
       "      <td>NAN</td>\n",
       "      <td>2</td>\n",
       "      <td>1</td>\n",
       "      <td>4.5 out of 5 stars</td>\n",
       "      <td>Four Stars // 4.0 // 18 Dec. 2015 // By\\n    \\...</td>\n",
       "    </tr>\n",
       "    <tr>\n",
       "      <th>2</th>\n",
       "      <td>ccf</td>\n",
       "      <td>£9.99</td>\n",
       "      <td>2 new</td>\n",
       "      <td>17</td>\n",
       "      <td>2</td>\n",
       "      <td>3.9 out of 5 stars</td>\n",
       "      <td>**Highly Recommended!** // 5.0 // 26 May 2015 ...</td>\n",
       "    </tr>\n",
       "    <tr>\n",
       "      <th>3</th>\n",
       "      <td>Hornby</td>\n",
       "      <td>£39.99</td>\n",
       "      <td>NAN</td>\n",
       "      <td>1</td>\n",
       "      <td>2</td>\n",
       "      <td>5.0 out of 5 stars</td>\n",
       "      <td>I love it // 5.0 // 22 July 2013 // By\\n    \\n...</td>\n",
       "    </tr>\n",
       "    <tr>\n",
       "      <th>4</th>\n",
       "      <td>Hornby</td>\n",
       "      <td>£32.19</td>\n",
       "      <td>NAN</td>\n",
       "      <td>3</td>\n",
       "      <td>2</td>\n",
       "      <td>4.7 out of 5 stars</td>\n",
       "      <td>Birthday present // 5.0 // 14 April 2014 // By...</td>\n",
       "    </tr>\n",
       "    <tr>\n",
       "      <th>...</th>\n",
       "      <td>...</td>\n",
       "      <td>...</td>\n",
       "      <td>...</td>\n",
       "      <td>...</td>\n",
       "      <td>...</td>\n",
       "      <td>...</td>\n",
       "      <td>...</td>\n",
       "    </tr>\n",
       "    <tr>\n",
       "      <th>9995</th>\n",
       "      <td>Mattel</td>\n",
       "      <td>£22.95</td>\n",
       "      <td>5 new</td>\n",
       "      <td>3</td>\n",
       "      <td>3</td>\n",
       "      <td>5.0 out of 5 stars</td>\n",
       "      <td>Realistic // 5.0 // 31 Mar. 2014 // By\\n    \\n...</td>\n",
       "    </tr>\n",
       "    <tr>\n",
       "      <th>9996</th>\n",
       "      <td>Star Wars</td>\n",
       "      <td>£39.99</td>\n",
       "      <td>NAN</td>\n",
       "      <td>1</td>\n",
       "      <td>3</td>\n",
       "      <td>4.0 out of 5 stars</td>\n",
       "      <td>... what I see my grandson us going to have fu...</td>\n",
       "    </tr>\n",
       "    <tr>\n",
       "      <th>9997</th>\n",
       "      <td>Olde Scotland Yard Ltd.</td>\n",
       "      <td>£43.99</td>\n",
       "      <td>3 new</td>\n",
       "      <td>1</td>\n",
       "      <td>3</td>\n",
       "      <td>5.0 out of 5 stars</td>\n",
       "      <td>Five Stars // 5.0 // 18 Dec. 2015 // By\\n    \\...</td>\n",
       "    </tr>\n",
       "    <tr>\n",
       "      <th>9998</th>\n",
       "      <td>DC Comics</td>\n",
       "      <td>£49.81</td>\n",
       "      <td>3 new</td>\n",
       "      <td>1</td>\n",
       "      <td>3</td>\n",
       "      <td>5.0 out of 5 stars</td>\n",
       "      <td>The best sculpt in a while // 5.0 // 13 May 20...</td>\n",
       "    </tr>\n",
       "    <tr>\n",
       "      <th>9999</th>\n",
       "      <td>Bandai</td>\n",
       "      <td>£21.20</td>\n",
       "      <td>31 new</td>\n",
       "      <td>11</td>\n",
       "      <td>3</td>\n",
       "      <td>4.5 out of 5 stars</td>\n",
       "      <td>Gold leader // 5.0 // 31 Aug. 2015 // By\\n    ...</td>\n",
       "    </tr>\n",
       "  </tbody>\n",
       "</table>\n",
       "<p>9979 rows × 7 columns</p>\n",
       "</div>"
      ],
      "text/plain": [
       "                 manufacturer   price number_available_in_stock  \\\n",
       "0                      Hornby   £3.42                     5 new   \n",
       "1                   FunkyBuys  £16.99                       NAN   \n",
       "2                         ccf   £9.99                     2 new   \n",
       "3                      Hornby  £39.99                       NAN   \n",
       "4                      Hornby  £32.19                       NAN   \n",
       "...                       ...     ...                       ...   \n",
       "9995                   Mattel  £22.95                     5 new   \n",
       "9996                Star Wars  £39.99                       NAN   \n",
       "9997  Olde Scotland Yard Ltd.  £43.99                     3 new   \n",
       "9998                DC Comics  £49.81                     3 new   \n",
       "9999                   Bandai  £21.20                    31 new   \n",
       "\n",
       "     number_of_reviews number_of_answered_questions average_review_rating  \\\n",
       "0                   15                            1    4.9 out of 5 stars   \n",
       "1                    2                            1    4.5 out of 5 stars   \n",
       "2                   17                            2    3.9 out of 5 stars   \n",
       "3                    1                            2    5.0 out of 5 stars   \n",
       "4                    3                            2    4.7 out of 5 stars   \n",
       "...                ...                          ...                   ...   \n",
       "9995                 3                            3    5.0 out of 5 stars   \n",
       "9996                 1                            3    4.0 out of 5 stars   \n",
       "9997                 1                            3    5.0 out of 5 stars   \n",
       "9998                 1                            3    5.0 out of 5 stars   \n",
       "9999                11                            3    4.5 out of 5 stars   \n",
       "\n",
       "                                       customer_reviews  \n",
       "0     Worth Buying For The Pictures Alone (As Ever) ...  \n",
       "1     Four Stars // 4.0 // 18 Dec. 2015 // By\\n    \\...  \n",
       "2     **Highly Recommended!** // 5.0 // 26 May 2015 ...  \n",
       "3     I love it // 5.0 // 22 July 2013 // By\\n    \\n...  \n",
       "4     Birthday present // 5.0 // 14 April 2014 // By...  \n",
       "...                                                 ...  \n",
       "9995  Realistic // 5.0 // 31 Mar. 2014 // By\\n    \\n...  \n",
       "9996  ... what I see my grandson us going to have fu...  \n",
       "9997  Five Stars // 5.0 // 18 Dec. 2015 // By\\n    \\...  \n",
       "9998  The best sculpt in a while // 5.0 // 13 May 20...  \n",
       "9999  Gold leader // 5.0 // 31 Aug. 2015 // By\\n    ...  \n",
       "\n",
       "[9979 rows x 7 columns]"
      ]
     },
     "execution_count": 216,
     "metadata": {},
     "output_type": "execute_result"
    }
   ],
   "source": [
    "data.fillna(value = 'NAN')"
   ]
  },
  {
   "cell_type": "code",
   "execution_count": 217,
   "id": "24cdf015",
   "metadata": {},
   "outputs": [],
   "source": [
    "objList = data.select_dtypes(include = \"object\").columns"
   ]
  },
  {
   "cell_type": "code",
   "execution_count": 218,
   "id": "1a1bc7c4",
   "metadata": {},
   "outputs": [],
   "source": [
    "col_vals = LabelEncoder()\n",
    "for col in objList:\n",
    "    if col == 'manufacturer':\n",
    "        data['manufacturer_name'] = col_vals.fit_transform(data[col].astype(str))"
   ]
  },
  {
   "cell_type": "code",
   "execution_count": 219,
   "id": "d8e0cc9f",
   "metadata": {},
   "outputs": [],
   "source": [
    "for index, row in data.iterrows():\n",
    "    score = row['average_review_rating']\n",
    "    if score == score:\n",
    "        value = re.findall(\"\\d+\\.?\\d*\", score)[0]\n",
    "        tmp = float(value)\n",
    "        frac = tmp - math.floor(tmp);\n",
    "        if (frac < 0.5):\n",
    "            data.loc[data.index == index, 'rate_num'] = math.floor(tmp)\n",
    "        else:  \n",
    "            data.loc[data.index == index, 'rate_num'] = math.ceil(tmp)"
   ]
  },
  {
   "cell_type": "code",
   "execution_count": 220,
   "id": "28c2d2ed",
   "metadata": {},
   "outputs": [],
   "source": [
    "for index, row in data.iterrows():\n",
    "    price = row['price']\n",
    "    if price == price:\n",
    "        value = re.findall(\"\\d+\\.?\\d*\", price)[0]\n",
    "        data.loc[data.index == index, 'price_num'] = float(value)\n",
    "        data['price_num'].astype(float)"
   ]
  },
  {
   "cell_type": "code",
   "execution_count": 221,
   "id": "bab34998",
   "metadata": {},
   "outputs": [],
   "source": [
    "for index, row in data.iterrows():\n",
    "    stockVal = row['number_available_in_stock']\n",
    "    if stockVal == stockVal:\n",
    "        value = re.findall(\"\\d+\\.?\\d*\", stockVal)[0]\n",
    "        data.loc[data.index == index, 'stock_num'] = float(value)\n",
    "        data['stock_num'].astype(float)"
   ]
  },
  {
   "cell_type": "code",
   "execution_count": 222,
   "id": "98359076",
   "metadata": {},
   "outputs": [],
   "source": [
    "for index, row in data.iterrows():\n",
    "    question = row['number_of_answered_questions']\n",
    "    if question == question:\n",
    "        data.loc[data.index == index, 'question_ans_num'] = float(question)\n",
    "        data['question_ans_num'].astype(float)"
   ]
  },
  {
   "cell_type": "code",
   "execution_count": 223,
   "id": "5ae09a09",
   "metadata": {},
   "outputs": [],
   "source": [
    "for index, row in data.iterrows():\n",
    "    review = row['number_of_reviews']\n",
    "    if review == review:\n",
    "        value = review.replace(',','')\n",
    "        #print(value)\n",
    "        data.loc[data.index == index, 'review_num'] = float(value)\n",
    "        data['review_num'].astype(float)"
   ]
  },
  {
   "cell_type": "code",
   "execution_count": 224,
   "id": "9fd74843",
   "metadata": {},
   "outputs": [],
   "source": [
    "for index, row in data.iterrows():\n",
    "    review = row['customer_reviews']\n",
    "    list = review.split(\"//\")\n",
    "    comments = ''\n",
    "    for idx, val in enumerate(list):\n",
    "        if (idx % 4 == 0):   \n",
    "            comments = comments + val\n",
    "    data.loc[data.index == index, 'customer_comments'] = comments"
   ]
  },
  {
   "cell_type": "code",
   "execution_count": 106,
   "id": "55c9b9d4",
   "metadata": {},
   "outputs": [
    {
     "data": {
      "text/plain": [
       "0       Worth Buying For The Pictures Alone (As Ever) ...\n",
       "1       Four Stars  Very happy with the communication ...\n",
       "2       **Highly Recommended!**  Simple & GREAT FUN fo...\n",
       "3       I love it  I love it. Perfect with the earlier...\n",
       "4       Birthday present  Bought this for my Grandson'...\n",
       "                              ...                        \n",
       "9995    Realistic  Very true to the Batman classic ser...\n",
       "9996    ... what I see my grandson us going to have fu...\n",
       "9997           Five Stars  arrived in excellent condition\n",
       "9998    The best sculpt in a while  Okay, Hal Jordan f...\n",
       "9999    Gold leader  1st class kit top marks to bandai...\n",
       "Name: customer_comments, Length: 9979, dtype: object"
      ]
     },
     "execution_count": 106,
     "metadata": {},
     "output_type": "execute_result"
    }
   ],
   "source": [
    "data['customer_comments']"
   ]
  },
  {
   "cell_type": "code",
   "execution_count": 225,
   "id": "8c932b13",
   "metadata": {},
   "outputs": [
    {
     "data": {
      "text/html": [
       "<div>\n",
       "<style scoped>\n",
       "    .dataframe tbody tr th:only-of-type {\n",
       "        vertical-align: middle;\n",
       "    }\n",
       "\n",
       "    .dataframe tbody tr th {\n",
       "        vertical-align: top;\n",
       "    }\n",
       "\n",
       "    .dataframe thead th {\n",
       "        text-align: right;\n",
       "    }\n",
       "</style>\n",
       "<table border=\"1\" class=\"dataframe\">\n",
       "  <thead>\n",
       "    <tr style=\"text-align: right;\">\n",
       "      <th></th>\n",
       "      <th>manufacturer</th>\n",
       "      <th>price</th>\n",
       "      <th>number_available_in_stock</th>\n",
       "      <th>number_of_reviews</th>\n",
       "      <th>number_of_answered_questions</th>\n",
       "      <th>average_review_rating</th>\n",
       "      <th>customer_reviews</th>\n",
       "      <th>manufacturer_name</th>\n",
       "      <th>rate_num</th>\n",
       "      <th>price_num</th>\n",
       "      <th>stock_num</th>\n",
       "      <th>question_ans_num</th>\n",
       "      <th>review_num</th>\n",
       "      <th>customer_comments</th>\n",
       "    </tr>\n",
       "  </thead>\n",
       "  <tbody>\n",
       "    <tr>\n",
       "      <th>0</th>\n",
       "      <td>Hornby</td>\n",
       "      <td>£3.42</td>\n",
       "      <td>5 new</td>\n",
       "      <td>15</td>\n",
       "      <td>1.0</td>\n",
       "      <td>4.9 out of 5 stars</td>\n",
       "      <td>Worth Buying For The Pictures Alone (As Ever) ...</td>\n",
       "      <td>1026</td>\n",
       "      <td>5.0</td>\n",
       "      <td>3.42</td>\n",
       "      <td>5.0</td>\n",
       "      <td>1.0</td>\n",
       "      <td>15.0</td>\n",
       "      <td>Worth Buying For The Pictures Alone (As Ever) ...</td>\n",
       "    </tr>\n",
       "    <tr>\n",
       "      <th>1</th>\n",
       "      <td>FunkyBuys</td>\n",
       "      <td>£16.99</td>\n",
       "      <td>NaN</td>\n",
       "      <td>2</td>\n",
       "      <td>1.0</td>\n",
       "      <td>4.5 out of 5 stars</td>\n",
       "      <td>Four Stars // 4.0 // 18 Dec. 2015 // By\\n    \\...</td>\n",
       "      <td>798</td>\n",
       "      <td>5.0</td>\n",
       "      <td>16.99</td>\n",
       "      <td>NaN</td>\n",
       "      <td>1.0</td>\n",
       "      <td>2.0</td>\n",
       "      <td>Four Stars  Very happy with the communication ...</td>\n",
       "    </tr>\n",
       "    <tr>\n",
       "      <th>2</th>\n",
       "      <td>ccf</td>\n",
       "      <td>£9.99</td>\n",
       "      <td>2 new</td>\n",
       "      <td>17</td>\n",
       "      <td>2.0</td>\n",
       "      <td>3.9 out of 5 stars</td>\n",
       "      <td>**Highly Recommended!** // 5.0 // 26 May 2015 ...</td>\n",
       "      <td>2548</td>\n",
       "      <td>4.0</td>\n",
       "      <td>9.99</td>\n",
       "      <td>2.0</td>\n",
       "      <td>2.0</td>\n",
       "      <td>17.0</td>\n",
       "      <td>**Highly Recommended!**  Simple &amp; GREAT FUN fo...</td>\n",
       "    </tr>\n",
       "    <tr>\n",
       "      <th>3</th>\n",
       "      <td>Hornby</td>\n",
       "      <td>£39.99</td>\n",
       "      <td>NaN</td>\n",
       "      <td>1</td>\n",
       "      <td>2.0</td>\n",
       "      <td>5.0 out of 5 stars</td>\n",
       "      <td>I love it // 5.0 // 22 July 2013 // By\\n    \\n...</td>\n",
       "      <td>1026</td>\n",
       "      <td>5.0</td>\n",
       "      <td>39.99</td>\n",
       "      <td>NaN</td>\n",
       "      <td>2.0</td>\n",
       "      <td>1.0</td>\n",
       "      <td>I love it  I love it. Perfect with the earlier...</td>\n",
       "    </tr>\n",
       "    <tr>\n",
       "      <th>4</th>\n",
       "      <td>Hornby</td>\n",
       "      <td>£32.19</td>\n",
       "      <td>NaN</td>\n",
       "      <td>3</td>\n",
       "      <td>2.0</td>\n",
       "      <td>4.7 out of 5 stars</td>\n",
       "      <td>Birthday present // 5.0 // 14 April 2014 // By...</td>\n",
       "      <td>1026</td>\n",
       "      <td>5.0</td>\n",
       "      <td>32.19</td>\n",
       "      <td>NaN</td>\n",
       "      <td>2.0</td>\n",
       "      <td>3.0</td>\n",
       "      <td>Birthday present  Bought this for my Grandson'...</td>\n",
       "    </tr>\n",
       "  </tbody>\n",
       "</table>\n",
       "</div>"
      ],
      "text/plain": [
       "  manufacturer   price number_available_in_stock number_of_reviews  \\\n",
       "0       Hornby   £3.42                     5 new                15   \n",
       "1    FunkyBuys  £16.99                       NaN                 2   \n",
       "2          ccf   £9.99                     2 new                17   \n",
       "3       Hornby  £39.99                       NaN                 1   \n",
       "4       Hornby  £32.19                       NaN                 3   \n",
       "\n",
       "   number_of_answered_questions average_review_rating  \\\n",
       "0                           1.0    4.9 out of 5 stars   \n",
       "1                           1.0    4.5 out of 5 stars   \n",
       "2                           2.0    3.9 out of 5 stars   \n",
       "3                           2.0    5.0 out of 5 stars   \n",
       "4                           2.0    4.7 out of 5 stars   \n",
       "\n",
       "                                    customer_reviews  manufacturer_name  \\\n",
       "0  Worth Buying For The Pictures Alone (As Ever) ...               1026   \n",
       "1  Four Stars // 4.0 // 18 Dec. 2015 // By\\n    \\...                798   \n",
       "2  **Highly Recommended!** // 5.0 // 26 May 2015 ...               2548   \n",
       "3  I love it // 5.0 // 22 July 2013 // By\\n    \\n...               1026   \n",
       "4  Birthday present // 5.0 // 14 April 2014 // By...               1026   \n",
       "\n",
       "   rate_num  price_num  stock_num  question_ans_num  review_num  \\\n",
       "0       5.0       3.42        5.0               1.0        15.0   \n",
       "1       5.0      16.99        NaN               1.0         2.0   \n",
       "2       4.0       9.99        2.0               2.0        17.0   \n",
       "3       5.0      39.99        NaN               2.0         1.0   \n",
       "4       5.0      32.19        NaN               2.0         3.0   \n",
       "\n",
       "                                   customer_comments  \n",
       "0  Worth Buying For The Pictures Alone (As Ever) ...  \n",
       "1  Four Stars  Very happy with the communication ...  \n",
       "2  **Highly Recommended!**  Simple & GREAT FUN fo...  \n",
       "3  I love it  I love it. Perfect with the earlier...  \n",
       "4  Birthday present  Bought this for my Grandson'...  "
      ]
     },
     "execution_count": 225,
     "metadata": {},
     "output_type": "execute_result"
    }
   ],
   "source": [
    "data.head()"
   ]
  },
  {
   "cell_type": "code",
   "execution_count": 226,
   "id": "25e0ab98",
   "metadata": {},
   "outputs": [],
   "source": [
    "data_dict = {'manufacturer_name': data['manufacturer_name'],\n",
    "             'price_num': data['price_num'],\n",
    "            'stock_num': data['stock_num'],\n",
    "            'review_num': data['review_num'],\n",
    "            'answer_num': data['question_ans_num'],\n",
    "            'customer_comments': data['customer_comments'],\n",
    "            'rate_num': data['rate_num']}\n",
    "useful_info_df = pd.DataFrame(data_dict)"
   ]
  },
  {
   "cell_type": "code",
   "execution_count": 227,
   "id": "bf0af4bb",
   "metadata": {},
   "outputs": [],
   "source": [
    "useful_info_df['price_num'] = pd.to_numeric(useful_info_df['price_num'])\n",
    "useful_info_df['stock_num'] = pd.to_numeric(useful_info_df['stock_num'])\n",
    "useful_info_df['review_num'] = pd.to_numeric(useful_info_df['review_num'])\n",
    "useful_info_df['answer_num'] = pd.to_numeric(useful_info_df['answer_num'])\n",
    "useful_info_df['rate_num'] = pd.to_numeric(useful_info_df['rate_num'])"
   ]
  },
  {
   "cell_type": "code",
   "execution_count": 228,
   "id": "5b28a202",
   "metadata": {},
   "outputs": [
    {
     "name": "stdout",
     "output_type": "stream",
     "text": [
      "manufacturer_name       0\n",
      "price_num            1431\n",
      "stock_num            2494\n",
      "review_num              0\n",
      "answer_num            764\n",
      "customer_comments       0\n",
      "rate_num                0\n",
      "dtype: int64\n"
     ]
    }
   ],
   "source": [
    "print (useful_info_df.isnull().sum())"
   ]
  },
  {
   "cell_type": "code",
   "execution_count": 229,
   "id": "c72b1edb",
   "metadata": {},
   "outputs": [
    {
     "name": "stdout",
     "output_type": "stream",
     "text": [
      "['manufacturer_name', 'price_num', 'stock_num', 'review_num', 'answer_num', 'rate_num']\n"
     ]
    }
   ],
   "source": [
    "num_cols = [col for col in useful_info_df.columns if useful_info_df[col].dtypes !='O']\n",
    "print(num_cols)"
   ]
  },
  {
   "cell_type": "code",
   "execution_count": 230,
   "id": "fbeca96f",
   "metadata": {},
   "outputs": [],
   "source": [
    "imputer = SimpleImputer(missing_values=np.nan, strategy='median', fill_value=None)\n",
    "for header in num_cols:\n",
    "    imputer.fit(useful_info_df[[header]])\n",
    "    useful_info_df[header] = imputer.transform(useful_info_df[[header]]).ravel()"
   ]
  },
  {
   "cell_type": "code",
   "execution_count": 231,
   "id": "cbe976e6",
   "metadata": {},
   "outputs": [
    {
     "name": "stdout",
     "output_type": "stream",
     "text": [
      "manufacturer_name    0\n",
      "price_num            0\n",
      "stock_num            0\n",
      "review_num           0\n",
      "answer_num           0\n",
      "customer_comments    0\n",
      "rate_num             0\n",
      "dtype: int64\n"
     ]
    }
   ],
   "source": [
    "print (useful_info_df.isnull().sum())"
   ]
  },
  {
   "cell_type": "code",
   "execution_count": 232,
   "id": "c3f11990",
   "metadata": {},
   "outputs": [
    {
     "name": "stdout",
     "output_type": "stream",
     "text": [
      "Number of rows per star rating:\n",
      "5.0    7580\n",
      "4.0    2393\n",
      "3.0       5\n",
      "2.0       1\n",
      "Name: rate_num, dtype: int64\n"
     ]
    }
   ],
   "source": [
    "print(\"Number of rows per star rating:\")\n",
    "print(useful_info_df['rate_num'].value_counts())"
   ]
  },
  {
   "cell_type": "code",
   "execution_count": 233,
   "id": "c4a9c1f4",
   "metadata": {},
   "outputs": [
    {
     "data": {
      "text/plain": [
       "(9979, 7)"
      ]
     },
     "execution_count": 233,
     "metadata": {},
     "output_type": "execute_result"
    }
   ],
   "source": [
    "useful_info_df.shape"
   ]
  },
  {
   "cell_type": "code",
   "execution_count": 234,
   "id": "540e87e5",
   "metadata": {},
   "outputs": [
    {
     "data": {
      "text/html": [
       "<div>\n",
       "<style scoped>\n",
       "    .dataframe tbody tr th:only-of-type {\n",
       "        vertical-align: middle;\n",
       "    }\n",
       "\n",
       "    .dataframe tbody tr th {\n",
       "        vertical-align: top;\n",
       "    }\n",
       "\n",
       "    .dataframe thead th {\n",
       "        text-align: right;\n",
       "    }\n",
       "</style>\n",
       "<table border=\"1\" class=\"dataframe\">\n",
       "  <thead>\n",
       "    <tr style=\"text-align: right;\">\n",
       "      <th></th>\n",
       "      <th>manufacturer_name</th>\n",
       "      <th>price_num</th>\n",
       "      <th>stock_num</th>\n",
       "      <th>review_num</th>\n",
       "      <th>answer_num</th>\n",
       "      <th>customer_comments</th>\n",
       "      <th>rate_num</th>\n",
       "    </tr>\n",
       "  </thead>\n",
       "  <tbody>\n",
       "    <tr>\n",
       "      <th>0</th>\n",
       "      <td>1026.0</td>\n",
       "      <td>3.42</td>\n",
       "      <td>5.0</td>\n",
       "      <td>15.0</td>\n",
       "      <td>1.0</td>\n",
       "      <td>Worth Buying For The Pictures Alone (As Ever) ...</td>\n",
       "      <td>5.0</td>\n",
       "    </tr>\n",
       "    <tr>\n",
       "      <th>1</th>\n",
       "      <td>798.0</td>\n",
       "      <td>16.99</td>\n",
       "      <td>5.0</td>\n",
       "      <td>2.0</td>\n",
       "      <td>1.0</td>\n",
       "      <td>Four Stars  Very happy with the communication ...</td>\n",
       "      <td>5.0</td>\n",
       "    </tr>\n",
       "    <tr>\n",
       "      <th>2</th>\n",
       "      <td>2548.0</td>\n",
       "      <td>9.99</td>\n",
       "      <td>2.0</td>\n",
       "      <td>17.0</td>\n",
       "      <td>2.0</td>\n",
       "      <td>**Highly Recommended!**  Simple &amp; GREAT FUN fo...</td>\n",
       "      <td>4.0</td>\n",
       "    </tr>\n",
       "    <tr>\n",
       "      <th>3</th>\n",
       "      <td>1026.0</td>\n",
       "      <td>39.99</td>\n",
       "      <td>5.0</td>\n",
       "      <td>1.0</td>\n",
       "      <td>2.0</td>\n",
       "      <td>I love it  I love it. Perfect with the earlier...</td>\n",
       "      <td>5.0</td>\n",
       "    </tr>\n",
       "    <tr>\n",
       "      <th>4</th>\n",
       "      <td>1026.0</td>\n",
       "      <td>32.19</td>\n",
       "      <td>5.0</td>\n",
       "      <td>3.0</td>\n",
       "      <td>2.0</td>\n",
       "      <td>Birthday present  Bought this for my Grandson'...</td>\n",
       "      <td>5.0</td>\n",
       "    </tr>\n",
       "  </tbody>\n",
       "</table>\n",
       "</div>"
      ],
      "text/plain": [
       "   manufacturer_name  price_num  stock_num  review_num  answer_num  \\\n",
       "0             1026.0       3.42        5.0        15.0         1.0   \n",
       "1              798.0      16.99        5.0         2.0         1.0   \n",
       "2             2548.0       9.99        2.0        17.0         2.0   \n",
       "3             1026.0      39.99        5.0         1.0         2.0   \n",
       "4             1026.0      32.19        5.0         3.0         2.0   \n",
       "\n",
       "                                   customer_comments  rate_num  \n",
       "0  Worth Buying For The Pictures Alone (As Ever) ...       5.0  \n",
       "1  Four Stars  Very happy with the communication ...       5.0  \n",
       "2  **Highly Recommended!**  Simple & GREAT FUN fo...       4.0  \n",
       "3  I love it  I love it. Perfect with the earlier...       5.0  \n",
       "4  Birthday present  Bought this for my Grandson'...       5.0  "
      ]
     },
     "execution_count": 234,
     "metadata": {},
     "output_type": "execute_result"
    }
   ],
   "source": [
    "useful_info_df.head()"
   ]
  },
  {
   "cell_type": "code",
   "execution_count": 235,
   "id": "9151e3e0",
   "metadata": {},
   "outputs": [
    {
     "data": {
      "text/plain": [
       "0       Worth Buying For The Pictures Alone (As Ever) ...\n",
       "1       Four Stars  Very happy with the communication ...\n",
       "2       **Highly Recommended!**  Simple & GREAT FUN fo...\n",
       "3       I love it  I love it. Perfect with the earlier...\n",
       "4       Birthday present  Bought this for my Grandson'...\n",
       "                              ...                        \n",
       "9995    Realistic  Very true to the Batman classic ser...\n",
       "9996    ... what I see my grandson us going to have fu...\n",
       "9997           Five Stars  arrived in excellent condition\n",
       "9998    The best sculpt in a while  Okay, Hal Jordan f...\n",
       "9999    Gold leader  1st class kit top marks to bandai...\n",
       "Name: customer_comments, Length: 9979, dtype: object"
      ]
     },
     "execution_count": 235,
     "metadata": {},
     "output_type": "execute_result"
    }
   ],
   "source": [
    "useful_info_df['customer_comments']"
   ]
  },
  {
   "cell_type": "code",
   "execution_count": 190,
   "id": "cba7036f",
   "metadata": {},
   "outputs": [
    {
     "data": {
      "text/plain": [
       "(9979, 8)"
      ]
     },
     "execution_count": 190,
     "metadata": {},
     "output_type": "execute_result"
    }
   ],
   "source": [
    "useful_info_df.shape"
   ]
  },
  {
   "cell_type": "code",
   "execution_count": 236,
   "id": "325d2cb6",
   "metadata": {},
   "outputs": [],
   "source": [
    "import pandas as pd\n",
    "import numpy as np\n",
    "import nltk\n",
    "import re"
   ]
  },
  {
   "cell_type": "code",
   "execution_count": 237,
   "id": "bf584561",
   "metadata": {},
   "outputs": [],
   "source": [
    "# To lower case\n",
    "useful_info_df['pre_process_comments'] = useful_info_df['customer_comments'].apply(lambda x: \" \".join(x.lower() for x in str(x).split()))"
   ]
  },
  {
   "cell_type": "code",
   "execution_count": 238,
   "id": "ec1b7c25",
   "metadata": {},
   "outputs": [],
   "source": [
    "from bs4 import BeautifulSoup\n",
    "# Get rid of URLs HTMLs\n",
    "useful_info_df['pre_process_comments'] =useful_info_df['pre_process_comments'].apply(lambda x: BeautifulSoup(x).get_text())\n",
    "import re\n",
    "useful_info_df['pre_process_comments'] = useful_info_df['pre_process_comments'].apply(lambda x: re.sub(r\"//\", \"\", x))"
   ]
  },
  {
   "cell_type": "code",
   "execution_count": 239,
   "id": "006dddbc",
   "metadata": {},
   "outputs": [],
   "source": [
    "def contractions(s):\n",
    "    s = re.sub(r\"won’t\", \"will not\",s)\n",
    "    s = re.sub(r\"would’t\", \"would not\",s)\n",
    "    s = re.sub(r\"could’t\", \"could not\",s)\n",
    "    s = re.sub(r\"\\’d\", \" would\",s)\n",
    "    s = re.sub(r\"can\\’t\", \"can not\",s)\n",
    "    s = re.sub(r\"n\\’t\", \" not\", s)\n",
    "    s= re.sub(r\"\\’re\", \" are\", s)\n",
    "    s = re.sub(r\"\\’s\", \" is\", s)\n",
    "    s = re.sub(r\"\\’ll\", \" will\", s)\n",
    "    s = re.sub(r\"\\’t\", \" not\", s)\n",
    "    s = re.sub(r\"\\’ve\", \" have\", s)\n",
    "    s = re.sub(r\"\\’m\", \" am\", s)\n",
    "    return s\n",
    "useful_info_df['pre_process_comments'] = useful_info_df['pre_process_comments'].apply(lambda x:contractions(x))"
   ]
  },
  {
   "cell_type": "code",
   "execution_count": 240,
   "id": "961c02b4",
   "metadata": {},
   "outputs": [
    {
     "name": "stderr",
     "output_type": "stream",
     "text": [
      "[nltk_data] Downloading package punkt to /Users/Sissi/nltk_data...\n",
      "[nltk_data]   Package punkt is already up-to-date!\n",
      "[nltk_data] Downloading package stopwords to /Users/Sissi/nltk_data...\n",
      "[nltk_data]   Package stopwords is already up-to-date!\n",
      "[nltk_data] Downloading package wordnet to /Users/Sissi/nltk_data...\n",
      "[nltk_data]   Package wordnet is already up-to-date!\n"
     ]
    },
    {
     "data": {
      "text/plain": [
       "True"
      ]
     },
     "execution_count": 240,
     "metadata": {},
     "output_type": "execute_result"
    }
   ],
   "source": [
    "import nltk \n",
    "from nltk import word_tokenize,sent_tokenize\n",
    "nltk.download('punkt')\n",
    "nltk.download('stopwords')\n",
    "nltk.download('wordnet')"
   ]
  },
  {
   "cell_type": "code",
   "execution_count": 241,
   "id": "fb5c0fe3",
   "metadata": {},
   "outputs": [],
   "source": [
    "useful_info_df['pre_process_comments'] = useful_info_df['pre_process_comments'].apply(lambda x: \" \".join([re.sub('[^A-Za-z]+','', x) for x in nltk.word_tokenize(x)]))"
   ]
  },
  {
   "cell_type": "code",
   "execution_count": 242,
   "id": "949c144c",
   "metadata": {},
   "outputs": [],
   "source": [
    "useful_info_df['pre_process_comments'] = useful_info_df['pre_process_comments'].apply(lambda x: re.sub(' +', ' ', x))"
   ]
  },
  {
   "cell_type": "code",
   "execution_count": 243,
   "id": "9c814685",
   "metadata": {},
   "outputs": [],
   "source": [
    "from nltk.corpus import stopwords\n",
    "stop = stopwords.words('english')\n",
    "useful_info_df['pre_process_comments'] = useful_info_df['pre_process_comments'].apply(lambda x: \" \".join([x for x in x.split() if x not in stop]))"
   ]
  },
  {
   "cell_type": "code",
   "execution_count": 244,
   "id": "3524a446",
   "metadata": {},
   "outputs": [],
   "source": [
    "from nltk.stem import WordNetLemmatizer\n",
    "lemmatizer = WordNetLemmatizer()\n",
    "useful_info_df['pre_process_comments'] = useful_info_df['pre_process_comments'].apply(lambda x: \" \".join([lemmatizer.lemmatize(w) for w in nltk.word_tokenize(x)]))"
   ]
  },
  {
   "cell_type": "code",
   "execution_count": 245,
   "id": "b294ad19",
   "metadata": {},
   "outputs": [
    {
     "data": {
      "text/plain": [
       "'worth buying picture alone ever part magic growing boy buy given new hornby catalogue every year even included product previous year still got old one dating back somewhere day catalogue especially informative tell vintage rolling stock useful dedicating railway one particular era train company amazing detail fabulous photography amazing detail every credit photographer book worthy reference manual well sale brochure even passing interest hobby transported another time younger awe big train great purchase purchased behalf dad always asking look gauge engine online good buy look anytime would definitely buy next one arrived quickly perfect condition great catalogue everything really needed see offer hornby way train would minded included rrp well though collect glossy picture great nice still get collect glossy picture great nice still get catalog collect great catalogue great book extremely useful insight future christmas present useful useful info someonelike starting back hobby many year hornbys latest catalogue well produced good quality cataloguesuper quality picture'"
      ]
     },
     "execution_count": 245,
     "metadata": {},
     "output_type": "execute_result"
    }
   ],
   "source": [
    "useful_info_df['pre_process_comments'][0]"
   ]
  },
  {
   "cell_type": "code",
   "execution_count": 249,
   "id": "c1da4930",
   "metadata": {},
   "outputs": [
    {
     "name": "stdout",
     "output_type": "stream",
     "text": [
      "(9979, 5161)\n"
     ]
    }
   ],
   "source": [
    "from sklearn.feature_extraction.text import TfidfVectorizer\n",
    "corpus = useful_info_df['pre_process_comments']\n",
    "vectorizer = TfidfVectorizer(\n",
    "                                #max_featrues = 5000,\n",
    "                                min_df=0.002,  \n",
    "                                ngram_range=(1,3)\n",
    "\n",
    ")\n",
    "vects=vectorizer.fit(corpus)\n",
    "vects=vectorizer.transform(corpus)\n",
    "print(vecs.shape)"
   ]
  },
  {
   "cell_type": "code",
   "execution_count": 250,
   "id": "09f806b0",
   "metadata": {},
   "outputs": [
    {
     "data": {
      "text/plain": [
       "(9979, 8)"
      ]
     },
     "execution_count": 250,
     "metadata": {},
     "output_type": "execute_result"
    }
   ],
   "source": [
    "useful_info_df.shape"
   ]
  },
  {
   "cell_type": "code",
   "execution_count": 251,
   "id": "72155097",
   "metadata": {
    "scrolled": true
   },
   "outputs": [
    {
     "data": {
      "text/html": [
       "<div>\n",
       "<style scoped>\n",
       "    .dataframe tbody tr th:only-of-type {\n",
       "        vertical-align: middle;\n",
       "    }\n",
       "\n",
       "    .dataframe tbody tr th {\n",
       "        vertical-align: top;\n",
       "    }\n",
       "\n",
       "    .dataframe thead th {\n",
       "        text-align: right;\n",
       "    }\n",
       "</style>\n",
       "<table border=\"1\" class=\"dataframe\">\n",
       "  <thead>\n",
       "    <tr style=\"text-align: right;\">\n",
       "      <th></th>\n",
       "      <th>aa</th>\n",
       "      <th>aaa</th>\n",
       "      <th>ability</th>\n",
       "      <th>able</th>\n",
       "      <th>able play</th>\n",
       "      <th>able use</th>\n",
       "      <th>absolute</th>\n",
       "      <th>absolutely</th>\n",
       "      <th>absolutely brilliant</th>\n",
       "      <th>absolutely delighted</th>\n",
       "      <th>...</th>\n",
       "      <th>youngster</th>\n",
       "      <th>youth</th>\n",
       "      <th>youtube</th>\n",
       "      <th>yr</th>\n",
       "      <th>yr old</th>\n",
       "      <th>yr old daughter</th>\n",
       "      <th>yr old grandson</th>\n",
       "      <th>yr old love</th>\n",
       "      <th>yr old son</th>\n",
       "      <th>yugioh</th>\n",
       "    </tr>\n",
       "  </thead>\n",
       "  <tbody>\n",
       "    <tr>\n",
       "      <th>0</th>\n",
       "      <td>0.000000</td>\n",
       "      <td>0.0</td>\n",
       "      <td>0.0</td>\n",
       "      <td>0.0</td>\n",
       "      <td>0.0</td>\n",
       "      <td>0.0</td>\n",
       "      <td>0.0</td>\n",
       "      <td>0.0</td>\n",
       "      <td>0.0</td>\n",
       "      <td>0.0</td>\n",
       "      <td>...</td>\n",
       "      <td>0.000000</td>\n",
       "      <td>0.0</td>\n",
       "      <td>0.0</td>\n",
       "      <td>0.0</td>\n",
       "      <td>0.0</td>\n",
       "      <td>0.0</td>\n",
       "      <td>0.0</td>\n",
       "      <td>0.0</td>\n",
       "      <td>0.0</td>\n",
       "      <td>0.0</td>\n",
       "    </tr>\n",
       "    <tr>\n",
       "      <th>1</th>\n",
       "      <td>0.000000</td>\n",
       "      <td>0.0</td>\n",
       "      <td>0.0</td>\n",
       "      <td>0.0</td>\n",
       "      <td>0.0</td>\n",
       "      <td>0.0</td>\n",
       "      <td>0.0</td>\n",
       "      <td>0.0</td>\n",
       "      <td>0.0</td>\n",
       "      <td>0.0</td>\n",
       "      <td>...</td>\n",
       "      <td>0.000000</td>\n",
       "      <td>0.0</td>\n",
       "      <td>0.0</td>\n",
       "      <td>0.0</td>\n",
       "      <td>0.0</td>\n",
       "      <td>0.0</td>\n",
       "      <td>0.0</td>\n",
       "      <td>0.0</td>\n",
       "      <td>0.0</td>\n",
       "      <td>0.0</td>\n",
       "    </tr>\n",
       "    <tr>\n",
       "      <th>2</th>\n",
       "      <td>0.138744</td>\n",
       "      <td>0.0</td>\n",
       "      <td>0.0</td>\n",
       "      <td>0.0</td>\n",
       "      <td>0.0</td>\n",
       "      <td>0.0</td>\n",
       "      <td>0.0</td>\n",
       "      <td>0.0</td>\n",
       "      <td>0.0</td>\n",
       "      <td>0.0</td>\n",
       "      <td>...</td>\n",
       "      <td>0.000000</td>\n",
       "      <td>0.0</td>\n",
       "      <td>0.0</td>\n",
       "      <td>0.0</td>\n",
       "      <td>0.0</td>\n",
       "      <td>0.0</td>\n",
       "      <td>0.0</td>\n",
       "      <td>0.0</td>\n",
       "      <td>0.0</td>\n",
       "      <td>0.0</td>\n",
       "    </tr>\n",
       "    <tr>\n",
       "      <th>3</th>\n",
       "      <td>0.000000</td>\n",
       "      <td>0.0</td>\n",
       "      <td>0.0</td>\n",
       "      <td>0.0</td>\n",
       "      <td>0.0</td>\n",
       "      <td>0.0</td>\n",
       "      <td>0.0</td>\n",
       "      <td>0.0</td>\n",
       "      <td>0.0</td>\n",
       "      <td>0.0</td>\n",
       "      <td>...</td>\n",
       "      <td>0.000000</td>\n",
       "      <td>0.0</td>\n",
       "      <td>0.0</td>\n",
       "      <td>0.0</td>\n",
       "      <td>0.0</td>\n",
       "      <td>0.0</td>\n",
       "      <td>0.0</td>\n",
       "      <td>0.0</td>\n",
       "      <td>0.0</td>\n",
       "      <td>0.0</td>\n",
       "    </tr>\n",
       "    <tr>\n",
       "      <th>4</th>\n",
       "      <td>0.000000</td>\n",
       "      <td>0.0</td>\n",
       "      <td>0.0</td>\n",
       "      <td>0.0</td>\n",
       "      <td>0.0</td>\n",
       "      <td>0.0</td>\n",
       "      <td>0.0</td>\n",
       "      <td>0.0</td>\n",
       "      <td>0.0</td>\n",
       "      <td>0.0</td>\n",
       "      <td>...</td>\n",
       "      <td>0.000000</td>\n",
       "      <td>0.0</td>\n",
       "      <td>0.0</td>\n",
       "      <td>0.0</td>\n",
       "      <td>0.0</td>\n",
       "      <td>0.0</td>\n",
       "      <td>0.0</td>\n",
       "      <td>0.0</td>\n",
       "      <td>0.0</td>\n",
       "      <td>0.0</td>\n",
       "    </tr>\n",
       "    <tr>\n",
       "      <th>...</th>\n",
       "      <td>...</td>\n",
       "      <td>...</td>\n",
       "      <td>...</td>\n",
       "      <td>...</td>\n",
       "      <td>...</td>\n",
       "      <td>...</td>\n",
       "      <td>...</td>\n",
       "      <td>...</td>\n",
       "      <td>...</td>\n",
       "      <td>...</td>\n",
       "      <td>...</td>\n",
       "      <td>...</td>\n",
       "      <td>...</td>\n",
       "      <td>...</td>\n",
       "      <td>...</td>\n",
       "      <td>...</td>\n",
       "      <td>...</td>\n",
       "      <td>...</td>\n",
       "      <td>...</td>\n",
       "      <td>...</td>\n",
       "      <td>...</td>\n",
       "    </tr>\n",
       "    <tr>\n",
       "      <th>95</th>\n",
       "      <td>0.000000</td>\n",
       "      <td>0.0</td>\n",
       "      <td>0.0</td>\n",
       "      <td>0.0</td>\n",
       "      <td>0.0</td>\n",
       "      <td>0.0</td>\n",
       "      <td>0.0</td>\n",
       "      <td>0.0</td>\n",
       "      <td>0.0</td>\n",
       "      <td>0.0</td>\n",
       "      <td>...</td>\n",
       "      <td>0.000000</td>\n",
       "      <td>0.0</td>\n",
       "      <td>0.0</td>\n",
       "      <td>0.0</td>\n",
       "      <td>0.0</td>\n",
       "      <td>0.0</td>\n",
       "      <td>0.0</td>\n",
       "      <td>0.0</td>\n",
       "      <td>0.0</td>\n",
       "      <td>0.0</td>\n",
       "    </tr>\n",
       "    <tr>\n",
       "      <th>96</th>\n",
       "      <td>0.000000</td>\n",
       "      <td>0.0</td>\n",
       "      <td>0.0</td>\n",
       "      <td>0.0</td>\n",
       "      <td>0.0</td>\n",
       "      <td>0.0</td>\n",
       "      <td>0.0</td>\n",
       "      <td>0.0</td>\n",
       "      <td>0.0</td>\n",
       "      <td>0.0</td>\n",
       "      <td>...</td>\n",
       "      <td>0.000000</td>\n",
       "      <td>0.0</td>\n",
       "      <td>0.0</td>\n",
       "      <td>0.0</td>\n",
       "      <td>0.0</td>\n",
       "      <td>0.0</td>\n",
       "      <td>0.0</td>\n",
       "      <td>0.0</td>\n",
       "      <td>0.0</td>\n",
       "      <td>0.0</td>\n",
       "    </tr>\n",
       "    <tr>\n",
       "      <th>97</th>\n",
       "      <td>0.000000</td>\n",
       "      <td>0.0</td>\n",
       "      <td>0.0</td>\n",
       "      <td>0.0</td>\n",
       "      <td>0.0</td>\n",
       "      <td>0.0</td>\n",
       "      <td>0.0</td>\n",
       "      <td>0.0</td>\n",
       "      <td>0.0</td>\n",
       "      <td>0.0</td>\n",
       "      <td>...</td>\n",
       "      <td>0.000000</td>\n",
       "      <td>0.0</td>\n",
       "      <td>0.0</td>\n",
       "      <td>0.0</td>\n",
       "      <td>0.0</td>\n",
       "      <td>0.0</td>\n",
       "      <td>0.0</td>\n",
       "      <td>0.0</td>\n",
       "      <td>0.0</td>\n",
       "      <td>0.0</td>\n",
       "    </tr>\n",
       "    <tr>\n",
       "      <th>98</th>\n",
       "      <td>0.000000</td>\n",
       "      <td>0.0</td>\n",
       "      <td>0.0</td>\n",
       "      <td>0.0</td>\n",
       "      <td>0.0</td>\n",
       "      <td>0.0</td>\n",
       "      <td>0.0</td>\n",
       "      <td>0.0</td>\n",
       "      <td>0.0</td>\n",
       "      <td>0.0</td>\n",
       "      <td>...</td>\n",
       "      <td>0.000000</td>\n",
       "      <td>0.0</td>\n",
       "      <td>0.0</td>\n",
       "      <td>0.0</td>\n",
       "      <td>0.0</td>\n",
       "      <td>0.0</td>\n",
       "      <td>0.0</td>\n",
       "      <td>0.0</td>\n",
       "      <td>0.0</td>\n",
       "      <td>0.0</td>\n",
       "    </tr>\n",
       "    <tr>\n",
       "      <th>99</th>\n",
       "      <td>0.000000</td>\n",
       "      <td>0.0</td>\n",
       "      <td>0.0</td>\n",
       "      <td>0.0</td>\n",
       "      <td>0.0</td>\n",
       "      <td>0.0</td>\n",
       "      <td>0.0</td>\n",
       "      <td>0.0</td>\n",
       "      <td>0.0</td>\n",
       "      <td>0.0</td>\n",
       "      <td>...</td>\n",
       "      <td>0.082056</td>\n",
       "      <td>0.0</td>\n",
       "      <td>0.0</td>\n",
       "      <td>0.0</td>\n",
       "      <td>0.0</td>\n",
       "      <td>0.0</td>\n",
       "      <td>0.0</td>\n",
       "      <td>0.0</td>\n",
       "      <td>0.0</td>\n",
       "      <td>0.0</td>\n",
       "    </tr>\n",
       "  </tbody>\n",
       "</table>\n",
       "<p>100 rows × 5161 columns</p>\n",
       "</div>"
      ],
      "text/plain": [
       "          aa  aaa  ability  able  able play  able use  absolute  absolutely  \\\n",
       "0   0.000000  0.0      0.0   0.0        0.0       0.0       0.0         0.0   \n",
       "1   0.000000  0.0      0.0   0.0        0.0       0.0       0.0         0.0   \n",
       "2   0.138744  0.0      0.0   0.0        0.0       0.0       0.0         0.0   \n",
       "3   0.000000  0.0      0.0   0.0        0.0       0.0       0.0         0.0   \n",
       "4   0.000000  0.0      0.0   0.0        0.0       0.0       0.0         0.0   \n",
       "..       ...  ...      ...   ...        ...       ...       ...         ...   \n",
       "95  0.000000  0.0      0.0   0.0        0.0       0.0       0.0         0.0   \n",
       "96  0.000000  0.0      0.0   0.0        0.0       0.0       0.0         0.0   \n",
       "97  0.000000  0.0      0.0   0.0        0.0       0.0       0.0         0.0   \n",
       "98  0.000000  0.0      0.0   0.0        0.0       0.0       0.0         0.0   \n",
       "99  0.000000  0.0      0.0   0.0        0.0       0.0       0.0         0.0   \n",
       "\n",
       "    absolutely brilliant  absolutely delighted  ...  youngster  youth  \\\n",
       "0                    0.0                   0.0  ...   0.000000    0.0   \n",
       "1                    0.0                   0.0  ...   0.000000    0.0   \n",
       "2                    0.0                   0.0  ...   0.000000    0.0   \n",
       "3                    0.0                   0.0  ...   0.000000    0.0   \n",
       "4                    0.0                   0.0  ...   0.000000    0.0   \n",
       "..                   ...                   ...  ...        ...    ...   \n",
       "95                   0.0                   0.0  ...   0.000000    0.0   \n",
       "96                   0.0                   0.0  ...   0.000000    0.0   \n",
       "97                   0.0                   0.0  ...   0.000000    0.0   \n",
       "98                   0.0                   0.0  ...   0.000000    0.0   \n",
       "99                   0.0                   0.0  ...   0.082056    0.0   \n",
       "\n",
       "    youtube   yr  yr old  yr old daughter  yr old grandson  yr old love  \\\n",
       "0       0.0  0.0     0.0              0.0              0.0          0.0   \n",
       "1       0.0  0.0     0.0              0.0              0.0          0.0   \n",
       "2       0.0  0.0     0.0              0.0              0.0          0.0   \n",
       "3       0.0  0.0     0.0              0.0              0.0          0.0   \n",
       "4       0.0  0.0     0.0              0.0              0.0          0.0   \n",
       "..      ...  ...     ...              ...              ...          ...   \n",
       "95      0.0  0.0     0.0              0.0              0.0          0.0   \n",
       "96      0.0  0.0     0.0              0.0              0.0          0.0   \n",
       "97      0.0  0.0     0.0              0.0              0.0          0.0   \n",
       "98      0.0  0.0     0.0              0.0              0.0          0.0   \n",
       "99      0.0  0.0     0.0              0.0              0.0          0.0   \n",
       "\n",
       "    yr old son  yugioh  \n",
       "0          0.0     0.0  \n",
       "1          0.0     0.0  \n",
       "2          0.0     0.0  \n",
       "3          0.0     0.0  \n",
       "4          0.0     0.0  \n",
       "..         ...     ...  \n",
       "95         0.0     0.0  \n",
       "96         0.0     0.0  \n",
       "97         0.0     0.0  \n",
       "98         0.0     0.0  \n",
       "99         0.0     0.0  \n",
       "\n",
       "[100 rows x 5161 columns]"
      ]
     },
     "execution_count": 251,
     "metadata": {},
     "output_type": "execute_result"
    }
   ],
   "source": [
    "final_useful_info_df= pd.DataFrame(X.toarray(),columns=feature_names)\n",
    "final_useful_info_df.head(100)\n"
   ]
  },
  {
   "cell_type": "code",
   "execution_count": 275,
   "id": "b17ab25a",
   "metadata": {},
   "outputs": [
    {
     "data": {
      "text/plain": [
       "(9979, 5161)"
      ]
     },
     "execution_count": 275,
     "metadata": {},
     "output_type": "execute_result"
    }
   ],
   "source": [
    "final_useful_info_df.shape"
   ]
  },
  {
   "cell_type": "code",
   "execution_count": 276,
   "id": "e6ede7c1",
   "metadata": {},
   "outputs": [
    {
     "data": {
      "text/plain": [
       "(9979, 6)"
      ]
     },
     "execution_count": 276,
     "metadata": {},
     "output_type": "execute_result"
    }
   ],
   "source": [
    "useful_info_df.shape"
   ]
  },
  {
   "cell_type": "code",
   "execution_count": 277,
   "id": "e1293c90",
   "metadata": {},
   "outputs": [],
   "source": [
    "#useful_info_df = useful_info_df.drop(columns=['customer_comments', 'pre_process_comments'])"
   ]
  },
  {
   "cell_type": "code",
   "execution_count": 286,
   "id": "6e498fb3",
   "metadata": {},
   "outputs": [],
   "source": [
    "final_useful_info_df.reset_index(drop=True, inplace=True)\n",
    "useful_info_df.reset_index(drop=True, inplace=True)\n",
    "result_df = pd.concat([final_useful_info_df,useful_info_df], axis=1)\n"
   ]
  },
  {
   "cell_type": "code",
   "execution_count": 287,
   "id": "d1a044ec",
   "metadata": {},
   "outputs": [
    {
     "data": {
      "text/html": [
       "<div>\n",
       "<style scoped>\n",
       "    .dataframe tbody tr th:only-of-type {\n",
       "        vertical-align: middle;\n",
       "    }\n",
       "\n",
       "    .dataframe tbody tr th {\n",
       "        vertical-align: top;\n",
       "    }\n",
       "\n",
       "    .dataframe thead th {\n",
       "        text-align: right;\n",
       "    }\n",
       "</style>\n",
       "<table border=\"1\" class=\"dataframe\">\n",
       "  <thead>\n",
       "    <tr style=\"text-align: right;\">\n",
       "      <th></th>\n",
       "      <th>aa</th>\n",
       "      <th>aaa</th>\n",
       "      <th>ability</th>\n",
       "      <th>able</th>\n",
       "      <th>able play</th>\n",
       "      <th>able use</th>\n",
       "      <th>absolute</th>\n",
       "      <th>absolutely</th>\n",
       "      <th>absolutely brilliant</th>\n",
       "      <th>absolutely delighted</th>\n",
       "      <th>...</th>\n",
       "      <th>yr old grandson</th>\n",
       "      <th>yr old love</th>\n",
       "      <th>yr old son</th>\n",
       "      <th>yugioh</th>\n",
       "      <th>manufacturer_name</th>\n",
       "      <th>price_num</th>\n",
       "      <th>stock_num</th>\n",
       "      <th>review_num</th>\n",
       "      <th>answer_num</th>\n",
       "      <th>rate_num</th>\n",
       "    </tr>\n",
       "  </thead>\n",
       "  <tbody>\n",
       "    <tr>\n",
       "      <th>0</th>\n",
       "      <td>0.000000</td>\n",
       "      <td>0.0</td>\n",
       "      <td>0.0</td>\n",
       "      <td>0.0</td>\n",
       "      <td>0.0</td>\n",
       "      <td>0.0</td>\n",
       "      <td>0.0</td>\n",
       "      <td>0.0</td>\n",
       "      <td>0.0</td>\n",
       "      <td>0.0</td>\n",
       "      <td>...</td>\n",
       "      <td>0.0</td>\n",
       "      <td>0.0</td>\n",
       "      <td>0.0</td>\n",
       "      <td>0.0</td>\n",
       "      <td>1026.0</td>\n",
       "      <td>3.42</td>\n",
       "      <td>5.0</td>\n",
       "      <td>15.0</td>\n",
       "      <td>1.0</td>\n",
       "      <td>5.0</td>\n",
       "    </tr>\n",
       "    <tr>\n",
       "      <th>1</th>\n",
       "      <td>0.000000</td>\n",
       "      <td>0.0</td>\n",
       "      <td>0.0</td>\n",
       "      <td>0.0</td>\n",
       "      <td>0.0</td>\n",
       "      <td>0.0</td>\n",
       "      <td>0.0</td>\n",
       "      <td>0.0</td>\n",
       "      <td>0.0</td>\n",
       "      <td>0.0</td>\n",
       "      <td>...</td>\n",
       "      <td>0.0</td>\n",
       "      <td>0.0</td>\n",
       "      <td>0.0</td>\n",
       "      <td>0.0</td>\n",
       "      <td>798.0</td>\n",
       "      <td>16.99</td>\n",
       "      <td>5.0</td>\n",
       "      <td>2.0</td>\n",
       "      <td>1.0</td>\n",
       "      <td>5.0</td>\n",
       "    </tr>\n",
       "    <tr>\n",
       "      <th>2</th>\n",
       "      <td>0.138744</td>\n",
       "      <td>0.0</td>\n",
       "      <td>0.0</td>\n",
       "      <td>0.0</td>\n",
       "      <td>0.0</td>\n",
       "      <td>0.0</td>\n",
       "      <td>0.0</td>\n",
       "      <td>0.0</td>\n",
       "      <td>0.0</td>\n",
       "      <td>0.0</td>\n",
       "      <td>...</td>\n",
       "      <td>0.0</td>\n",
       "      <td>0.0</td>\n",
       "      <td>0.0</td>\n",
       "      <td>0.0</td>\n",
       "      <td>2548.0</td>\n",
       "      <td>9.99</td>\n",
       "      <td>2.0</td>\n",
       "      <td>17.0</td>\n",
       "      <td>2.0</td>\n",
       "      <td>4.0</td>\n",
       "    </tr>\n",
       "    <tr>\n",
       "      <th>3</th>\n",
       "      <td>0.000000</td>\n",
       "      <td>0.0</td>\n",
       "      <td>0.0</td>\n",
       "      <td>0.0</td>\n",
       "      <td>0.0</td>\n",
       "      <td>0.0</td>\n",
       "      <td>0.0</td>\n",
       "      <td>0.0</td>\n",
       "      <td>0.0</td>\n",
       "      <td>0.0</td>\n",
       "      <td>...</td>\n",
       "      <td>0.0</td>\n",
       "      <td>0.0</td>\n",
       "      <td>0.0</td>\n",
       "      <td>0.0</td>\n",
       "      <td>1026.0</td>\n",
       "      <td>39.99</td>\n",
       "      <td>5.0</td>\n",
       "      <td>1.0</td>\n",
       "      <td>2.0</td>\n",
       "      <td>5.0</td>\n",
       "    </tr>\n",
       "    <tr>\n",
       "      <th>4</th>\n",
       "      <td>0.000000</td>\n",
       "      <td>0.0</td>\n",
       "      <td>0.0</td>\n",
       "      <td>0.0</td>\n",
       "      <td>0.0</td>\n",
       "      <td>0.0</td>\n",
       "      <td>0.0</td>\n",
       "      <td>0.0</td>\n",
       "      <td>0.0</td>\n",
       "      <td>0.0</td>\n",
       "      <td>...</td>\n",
       "      <td>0.0</td>\n",
       "      <td>0.0</td>\n",
       "      <td>0.0</td>\n",
       "      <td>0.0</td>\n",
       "      <td>1026.0</td>\n",
       "      <td>32.19</td>\n",
       "      <td>5.0</td>\n",
       "      <td>3.0</td>\n",
       "      <td>2.0</td>\n",
       "      <td>5.0</td>\n",
       "    </tr>\n",
       "  </tbody>\n",
       "</table>\n",
       "<p>5 rows × 5167 columns</p>\n",
       "</div>"
      ],
      "text/plain": [
       "         aa  aaa  ability  able  able play  able use  absolute  absolutely  \\\n",
       "0  0.000000  0.0      0.0   0.0        0.0       0.0       0.0         0.0   \n",
       "1  0.000000  0.0      0.0   0.0        0.0       0.0       0.0         0.0   \n",
       "2  0.138744  0.0      0.0   0.0        0.0       0.0       0.0         0.0   \n",
       "3  0.000000  0.0      0.0   0.0        0.0       0.0       0.0         0.0   \n",
       "4  0.000000  0.0      0.0   0.0        0.0       0.0       0.0         0.0   \n",
       "\n",
       "   absolutely brilliant  absolutely delighted  ...  yr old grandson  \\\n",
       "0                   0.0                   0.0  ...              0.0   \n",
       "1                   0.0                   0.0  ...              0.0   \n",
       "2                   0.0                   0.0  ...              0.0   \n",
       "3                   0.0                   0.0  ...              0.0   \n",
       "4                   0.0                   0.0  ...              0.0   \n",
       "\n",
       "   yr old love  yr old son  yugioh  manufacturer_name  price_num  stock_num  \\\n",
       "0          0.0         0.0     0.0             1026.0       3.42        5.0   \n",
       "1          0.0         0.0     0.0              798.0      16.99        5.0   \n",
       "2          0.0         0.0     0.0             2548.0       9.99        2.0   \n",
       "3          0.0         0.0     0.0             1026.0      39.99        5.0   \n",
       "4          0.0         0.0     0.0             1026.0      32.19        5.0   \n",
       "\n",
       "   review_num  answer_num  rate_num  \n",
       "0        15.0         1.0       5.0  \n",
       "1         2.0         1.0       5.0  \n",
       "2        17.0         2.0       4.0  \n",
       "3         1.0         2.0       5.0  \n",
       "4         3.0         2.0       5.0  \n",
       "\n",
       "[5 rows x 5167 columns]"
      ]
     },
     "execution_count": 287,
     "metadata": {},
     "output_type": "execute_result"
    }
   ],
   "source": [
    "result_df.head()"
   ]
  },
  {
   "cell_type": "code",
   "execution_count": 288,
   "id": "6ebaa2ce",
   "metadata": {},
   "outputs": [
    {
     "data": {
      "text/plain": [
       "(9979, 5167)"
      ]
     },
     "execution_count": 288,
     "metadata": {},
     "output_type": "execute_result"
    }
   ],
   "source": [
    "result_df.shape"
   ]
  },
  {
   "cell_type": "code",
   "execution_count": 312,
   "id": "979c4d6e",
   "metadata": {},
   "outputs": [
    {
     "data": {
      "text/plain": [
       "array([[ 0.       ,  0.       ,  0.       , ...,  5.       , 15.       ,\n",
       "         1.       ],\n",
       "       [ 0.       ,  0.       ,  0.       , ...,  5.       ,  2.       ,\n",
       "         1.       ],\n",
       "       [ 0.1387437,  0.       ,  0.       , ...,  2.       , 17.       ,\n",
       "         2.       ],\n",
       "       ...,\n",
       "       [ 0.       ,  0.       ,  0.       , ...,  3.       ,  1.       ,\n",
       "         3.       ],\n",
       "       [ 0.       ,  0.       ,  0.       , ...,  3.       ,  1.       ,\n",
       "         3.       ],\n",
       "       [ 0.       ,  0.       ,  0.       , ..., 31.       , 11.       ,\n",
       "         3.       ]], dtype=float32)"
      ]
     },
     "execution_count": 312,
     "metadata": {},
     "output_type": "execute_result"
    }
   ],
   "source": [
    "X = result_df.iloc[0:9979,0:5166]\n",
    "X = np.asarray(X).astype('float32')\n",
    "X"
   ]
  },
  {
   "cell_type": "code",
   "execution_count": 331,
   "id": "8f70efbe",
   "metadata": {},
   "outputs": [
    {
     "name": "stderr",
     "output_type": "stream",
     "text": [
      "/Users/Sissi/opt/anaconda3/envs/pratt_ml/lib/python3.6/site-packages/sklearn/preprocessing/_label.py:251: DataConversionWarning: A column-vector y was passed when a 1d array was expected. Please change the shape of y to (n_samples, ), for example using ravel().\n",
      "  y = column_or_1d(y, warn=True)\n"
     ]
    },
    {
     "data": {
      "text/plain": [
       "array([[3],\n",
       "       [3],\n",
       "       [2],\n",
       "       ...,\n",
       "       [3],\n",
       "       [3],\n",
       "       [3]], dtype=int32)"
      ]
     },
     "execution_count": 331,
     "metadata": {},
     "output_type": "execute_result"
    }
   ],
   "source": [
    "y = result_df.iloc[0:9979,5166:5167]\n",
    "y = LabelEncoder().fit_transform(y)\n",
    "y = np.asarray(y).astype('int32').reshape((-1,1))\n",
    "y"
   ]
  },
  {
   "cell_type": "code",
   "execution_count": 332,
   "id": "6ef63e18",
   "metadata": {
    "scrolled": true
   },
   "outputs": [
    {
     "name": "stdout",
     "output_type": "stream",
     "text": [
      "Train: (7983, 5166) (7983, 1) Test:  ((1996, 5166), (1996, 1))\n"
     ]
    }
   ],
   "source": [
    "from sklearn.model_selection import train_test_split\n",
    "from sklearn.linear_model import LogisticRegression\n",
    "X_train,X_test,y_train, y_test = train_test_split(X, y, test_size=0.2, random_state=10)\n",
    "print(\"Train:\",X_train.shape,y_train.shape,\"Test: \",(X_test.shape,y_test.shape))"
   ]
  },
  {
   "cell_type": "code",
   "execution_count": 339,
   "id": "437249f6",
   "metadata": {},
   "outputs": [
    {
     "data": {
      "text/plain": [
       "array([[0., 0., 0., ..., 5., 1., 1.],\n",
       "       [0., 0., 0., ..., 5., 1., 1.],\n",
       "       [0., 0., 0., ..., 3., 1., 1.],\n",
       "       ...,\n",
       "       [0., 0., 0., ..., 5., 1., 1.],\n",
       "       [0., 0., 0., ..., 4., 1., 1.],\n",
       "       [0., 0., 0., ..., 5., 1., 1.]], dtype=float32)"
      ]
     },
     "execution_count": 339,
     "metadata": {},
     "output_type": "execute_result"
    }
   ],
   "source": [
    "X_train"
   ]
  },
  {
   "cell_type": "code",
   "execution_count": 340,
   "id": "231ccd04",
   "metadata": {},
   "outputs": [
    {
     "data": {
      "text/plain": [
       "array([[2],\n",
       "       [2],\n",
       "       [3],\n",
       "       ...,\n",
       "       [3],\n",
       "       [2],\n",
       "       [3]], dtype=int32)"
      ]
     },
     "execution_count": 340,
     "metadata": {},
     "output_type": "execute_result"
    }
   ],
   "source": [
    "y_train"
   ]
  },
  {
   "cell_type": "code",
   "execution_count": 352,
   "id": "32c2f650",
   "metadata": {},
   "outputs": [],
   "source": [
    "import numpy as np\n",
    "import torch\n",
    "from keras.models import Sequential\n",
    "from keras.layers import Dense,Dropout,Activation,Flatten\n",
    "# Define the keras model\n",
    "model = Sequential()\n",
    "model.add(Dense(8, input_dim=5166, activation='relu', kernel_initializer='he_normal'))\n",
    "model.add(Dropout(0.2))\n",
    "model.add(Dense(8, activation='relu', kernel_initializer='he_normal'))\n",
    "model.add(Dropout(0.2))\n",
    "model.add(Dense(5, activation='softmax'))"
   ]
  },
  {
   "cell_type": "code",
   "execution_count": 355,
   "id": "ff3995ce",
   "metadata": {},
   "outputs": [],
   "source": [
    "model.compile(loss='sparse_categorical_crossentropy',\n",
    "              optimizer = 'adam',\n",
    "              metrics=['accuracy'])"
   ]
  },
  {
   "cell_type": "code",
   "execution_count": 356,
   "id": "451566e1",
   "metadata": {},
   "outputs": [
    {
     "name": "stdout",
     "output_type": "stream",
     "text": [
      "Model: \"sequential_9\"\n",
      "_________________________________________________________________\n",
      "Layer (type)                 Output Shape              Param #   \n",
      "=================================================================\n",
      "dense_27 (Dense)             (None, 8)                 41336     \n",
      "_________________________________________________________________\n",
      "dropout_18 (Dropout)         (None, 8)                 0         \n",
      "_________________________________________________________________\n",
      "dense_28 (Dense)             (None, 8)                 72        \n",
      "_________________________________________________________________\n",
      "dropout_19 (Dropout)         (None, 8)                 0         \n",
      "_________________________________________________________________\n",
      "dense_29 (Dense)             (None, 5)                 45        \n",
      "=================================================================\n",
      "Total params: 41,453\n",
      "Trainable params: 41,453\n",
      "Non-trainable params: 0\n",
      "_________________________________________________________________\n"
     ]
    }
   ],
   "source": [
    "model.summary()"
   ]
  },
  {
   "cell_type": "code",
   "execution_count": 359,
   "id": "45f595c3",
   "metadata": {
    "scrolled": false
   },
   "outputs": [
    {
     "name": "stdout",
     "output_type": "stream",
     "text": [
      "Epoch 1/50\n",
      "63/63 [==============================] - 0s 2ms/step - loss: 0.5844 - accuracy: 0.7604\n",
      "Epoch 2/50\n",
      "63/63 [==============================] - 0s 2ms/step - loss: 0.5764 - accuracy: 0.7604\n",
      "Epoch 3/50\n",
      "63/63 [==============================] - 0s 2ms/step - loss: 0.5684 - accuracy: 0.7604\n",
      "Epoch 4/50\n",
      "63/63 [==============================] - 0s 2ms/step - loss: 0.5567 - accuracy: 0.7604\n",
      "Epoch 5/50\n",
      "63/63 [==============================] - 0s 2ms/step - loss: 0.5523 - accuracy: 0.7602\n",
      "Epoch 6/50\n",
      "63/63 [==============================] - 0s 2ms/step - loss: 0.5486 - accuracy: 0.7604\n",
      "Epoch 7/50\n",
      "63/63 [==============================] - 0s 2ms/step - loss: 0.5603 - accuracy: 0.7604\n",
      "Epoch 8/50\n",
      "63/63 [==============================] - 0s 2ms/step - loss: 0.5662 - accuracy: 0.7604\n",
      "Epoch 9/50\n",
      "63/63 [==============================] - 0s 2ms/step - loss: 0.5508 - accuracy: 0.7604\n",
      "Epoch 10/50\n",
      "63/63 [==============================] - 0s 2ms/step - loss: 0.5366 - accuracy: 0.7604\n",
      "Epoch 11/50\n",
      "63/63 [==============================] - 0s 2ms/step - loss: 0.5303 - accuracy: 0.7602\n",
      "Epoch 12/50\n",
      "63/63 [==============================] - 0s 2ms/step - loss: 0.5207 - accuracy: 0.7604\n",
      "Epoch 13/50\n",
      "63/63 [==============================] - 0s 2ms/step - loss: 0.5237 - accuracy: 0.7604\n",
      "Epoch 14/50\n",
      "63/63 [==============================] - 0s 2ms/step - loss: 0.5137 - accuracy: 0.7604\n",
      "Epoch 15/50\n",
      "63/63 [==============================] - 0s 2ms/step - loss: 0.5105 - accuracy: 0.7604\n",
      "Epoch 16/50\n",
      "63/63 [==============================] - 0s 2ms/step - loss: 0.5041 - accuracy: 0.7604\n",
      "Epoch 17/50\n",
      "63/63 [==============================] - 0s 2ms/step - loss: 0.5051 - accuracy: 0.7604\n",
      "Epoch 18/50\n",
      "63/63 [==============================] - 0s 2ms/step - loss: 0.5017 - accuracy: 0.7604\n",
      "Epoch 19/50\n",
      "63/63 [==============================] - 0s 2ms/step - loss: 0.5077 - accuracy: 0.7604\n",
      "Epoch 20/50\n",
      "63/63 [==============================] - 0s 2ms/step - loss: 0.4859 - accuracy: 0.7604\n",
      "Epoch 21/50\n",
      "63/63 [==============================] - 0s 2ms/step - loss: 0.4961 - accuracy: 0.7604\n",
      "Epoch 22/50\n",
      "63/63 [==============================] - 0s 3ms/step - loss: 0.4807 - accuracy: 0.7604\n",
      "Epoch 23/50\n",
      "63/63 [==============================] - 0s 2ms/step - loss: 0.4748 - accuracy: 0.7604\n",
      "Epoch 24/50\n",
      "63/63 [==============================] - 0s 2ms/step - loss: 0.4820 - accuracy: 0.7602\n",
      "Epoch 25/50\n",
      "63/63 [==============================] - 0s 2ms/step - loss: 0.4869 - accuracy: 0.7596\n",
      "Epoch 26/50\n",
      "63/63 [==============================] - 0s 2ms/step - loss: 0.4788 - accuracy: 0.7589\n",
      "Epoch 27/50\n",
      "63/63 [==============================] - 0s 2ms/step - loss: 0.4672 - accuracy: 0.7591\n",
      "Epoch 28/50\n",
      "63/63 [==============================] - 0s 2ms/step - loss: 0.4788 - accuracy: 0.7599\n",
      "Epoch 29/50\n",
      "63/63 [==============================] - 0s 2ms/step - loss: 0.4540 - accuracy: 0.7592\n",
      "Epoch 30/50\n",
      "63/63 [==============================] - 0s 2ms/step - loss: 0.4517 - accuracy: 0.7596\n",
      "Epoch 31/50\n",
      "63/63 [==============================] - 0s 2ms/step - loss: 0.5102 - accuracy: 0.7585\n",
      "Epoch 32/50\n",
      "63/63 [==============================] - 0s 2ms/step - loss: 0.5064 - accuracy: 0.7601\n",
      "Epoch 33/50\n",
      "63/63 [==============================] - 0s 2ms/step - loss: 0.4453 - accuracy: 0.7600\n",
      "Epoch 34/50\n",
      "63/63 [==============================] - 0s 2ms/step - loss: 0.4499 - accuracy: 0.7594\n",
      "Epoch 35/50\n",
      "63/63 [==============================] - 0s 2ms/step - loss: 0.4451 - accuracy: 0.7597\n",
      "Epoch 36/50\n",
      "63/63 [==============================] - 0s 2ms/step - loss: 0.4454 - accuracy: 0.7561\n",
      "Epoch 37/50\n",
      "63/63 [==============================] - 0s 2ms/step - loss: 0.4358 - accuracy: 0.7586\n",
      "Epoch 38/50\n",
      "63/63 [==============================] - 0s 2ms/step - loss: 0.4426 - accuracy: 0.7549\n",
      "Epoch 39/50\n",
      "63/63 [==============================] - 0s 2ms/step - loss: 0.4345 - accuracy: 0.7576\n",
      "Epoch 40/50\n",
      "63/63 [==============================] - 0s 2ms/step - loss: 0.4349 - accuracy: 0.7600\n",
      "Epoch 41/50\n",
      "63/63 [==============================] - 0s 2ms/step - loss: 0.4292 - accuracy: 0.7586\n",
      "Epoch 42/50\n",
      "63/63 [==============================] - 0s 2ms/step - loss: 0.5427 - accuracy: 0.7527\n",
      "Epoch 43/50\n",
      "63/63 [==============================] - 0s 2ms/step - loss: 0.4332 - accuracy: 0.7600\n",
      "Epoch 44/50\n",
      "63/63 [==============================] - 0s 2ms/step - loss: 0.4235 - accuracy: 0.7631\n",
      "Epoch 45/50\n",
      "63/63 [==============================] - 0s 2ms/step - loss: 0.4049 - accuracy: 0.7585\n",
      "Epoch 46/50\n",
      "63/63 [==============================] - 0s 2ms/step - loss: 0.4109 - accuracy: 0.7645\n",
      "Epoch 47/50\n",
      "63/63 [==============================] - 0s 2ms/step - loss: 0.4031 - accuracy: 0.7740\n",
      "Epoch 48/50\n",
      "63/63 [==============================] - 0s 2ms/step - loss: 0.4104 - accuracy: 0.7719\n",
      "Epoch 49/50\n",
      "63/63 [==============================] - 0s 2ms/step - loss: 0.4038 - accuracy: 0.7507\n",
      "Epoch 50/50\n",
      "63/63 [==============================] - 0s 2ms/step - loss: 0.3983 - accuracy: 0.7582\n"
     ]
    },
    {
     "data": {
      "text/plain": [
       "<keras.callbacks.History at 0x1a373a7208>"
      ]
     },
     "execution_count": 359,
     "metadata": {},
     "output_type": "execute_result"
    }
   ],
   "source": [
    "model.fit(X_train,y_train,epochs=50,batch_size=128)"
   ]
  },
  {
   "cell_type": "code",
   "execution_count": 386,
   "id": "a899dae1",
   "metadata": {},
   "outputs": [
    {
     "name": "stdout",
     "output_type": "stream",
     "text": [
      "63/63 [==============================] - 0s 2ms/step - loss: 0.3123 - accuracy: 0.7604\n",
      "accuracy: 76.04%\n"
     ]
    }
   ],
   "source": [
    "score_train = model.evaluate(X_train,y_train,batch_size=128)\n",
    "print(\"%s: %.2f%%\" % (model.metrics_names[1], score_train[1]*100))"
   ]
  },
  {
   "cell_type": "code",
   "execution_count": 387,
   "id": "c717a192",
   "metadata": {},
   "outputs": [
    {
     "name": "stdout",
     "output_type": "stream",
     "text": [
      "16/16 [==============================] - 0s 3ms/step - loss: 0.4656 - accuracy: 0.7565\n",
      "accuracy: 75.65%\n"
     ]
    }
   ],
   "source": [
    "score_test = model.evaluate(X_test,y_test,batch_size=128)\n",
    "print(\"%s: %.2f%%\" % (model.metrics_names[1], score_test[1]*100))"
   ]
  }
 ],
 "metadata": {
  "kernelspec": {
   "display_name": "Python 3",
   "language": "python",
   "name": "python3"
  },
  "language_info": {
   "codemirror_mode": {
    "name": "ipython",
    "version": 3
   },
   "file_extension": ".py",
   "mimetype": "text/x-python",
   "name": "python",
   "nbconvert_exporter": "python",
   "pygments_lexer": "ipython3",
   "version": "3.6.13"
  }
 },
 "nbformat": 4,
 "nbformat_minor": 5
}
